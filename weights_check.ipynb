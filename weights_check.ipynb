{
 "cells": [
  {
   "cell_type": "code",
   "execution_count": 1,
   "metadata": {},
   "outputs": [],
   "source": [
    "import tensorflow as tf\n",
    "import numpy as np\n",
    "from attrdict import AttrDict"
   ]
  },
  {
   "cell_type": "code",
   "execution_count": 6,
   "metadata": {},
   "outputs": [],
   "source": [
    "from model.ut import UniversalTransformer\n",
    "from model.transformer import Transformer\n",
    "from datasource.sample_ds import SampleDataSource"
   ]
  },
  {
   "cell_type": "code",
   "execution_count": 3,
   "metadata": {},
   "outputs": [],
   "source": [
    "tf.enable_eager_execution()"
   ]
  },
  {
   "cell_type": "code",
   "execution_count": 23,
   "metadata": {},
   "outputs": [],
   "source": [
    "hparams = AttrDict()\n",
    "hparams.num_layers = 8\n",
    "hparams.num_units = 768\n",
    "hparams.num_filter_units = hparams.num_units * 4\n",
    "hparams.num_heads = 8\n",
    "hparams.dropout_rate = 0.1\n",
    "hparams.max_length = 50\n",
    "hparams.batch_size = 2\n",
    "hparams.learning_rate = 0.001\n",
    "hparams.warmup_steps = 4000\n",
    "hparams.num_epochs = 2\n",
    "hparams.vocab_size = 3278\n",
    "hparams.data_path = './data/'\n",
    "#hparams.ckpt_path = './ckpt/aut/u{}/model.ckpt'.format(hparams.num_units)\n",
    "#hparams.log_dir = './logs/aut/u{}'.format(hparams.num_units)\n",
    "hparams.act_max_step = 20\n",
    "hparams.act_epsilon = 0.01\n",
    "hparams.act_loss_weight = 0.01\n",
    "hparams1 = hparams"
   ]
  },
  {
   "cell_type": "code",
   "execution_count": null,
   "metadata": {},
   "outputs": [],
   "source": [
    "# Universal Transformer\n",
    "gpu_id = 1\n",
    "with tf.device('/gpu:{}'.format(gpu_id)):\n",
    "    ds = SampleDataSource(hparams)\n",
    "    batch = ds.feed_dict(None, hparams['batch_size'], True)\n",
    "    model = UniversalTransformer(hparams, True)\n",
    "    a, b, c = batch[0]\n",
    "    _ = model(a, c)\n",
    "    weights = model.weights"
   ]
  },
  {
   "cell_type": "code",
   "execution_count": 24,
   "metadata": {},
   "outputs": [],
   "source": [
    "# Transformer\n",
    "gpu_id = 1\n",
    "with tf.device('/gpu:{}'.format(gpu_id)):\n",
    "    ds = SampleDataSource(hparams)\n",
    "    batch = ds.feed_dict(None, hparams['batch_size'], True)\n",
    "    model = Transformer(hparams, True)\n",
    "    a, b, c = batch[0]\n",
    "    _ = model(a, c)\n",
    "    weights = model.weights"
   ]
  },
  {
   "cell_type": "code",
   "execution_count": 25,
   "metadata": {},
   "outputs": [
    {
     "data": {
      "text/plain": [
       "246"
      ]
     },
     "execution_count": 25,
     "metadata": {},
     "output_type": "execute_result"
    }
   ],
   "source": [
    "len(weights)"
   ]
  },
  {
   "cell_type": "code",
   "execution_count": 26,
   "metadata": {},
   "outputs": [
    {
     "name": "stdout",
     "output_type": "stream",
     "text": [
      "134764032\n"
     ]
    }
   ],
   "source": [
    "total = 0\n",
    "for w in weights:\n",
    "    if len(w.shape) == 1:\n",
    "        total += w.shape[0].value\n",
    "    elif len(w.shape) == 2:\n",
    "        total += w.shape[0].value * w.shape[1].value\n",
    "print(total)"
   ]
  },
  {
   "cell_type": "markdown",
   "metadata": {},
   "source": [
    "## compare amount of parameters\n",
    "### UT\n",
    "\n",
    "```\n",
    "u768   : 19,052,546\n",
    "u1024  : 32,743,426\n",
    "u1536  : 71,135,234\n",
    "u2048  : 124,207,106\n",
    "```\n",
    "\n",
    "### Transformer\n",
    "\n",
    "```\n",
    "l4 u512: 31,081,472\n",
    "l6 u512: 45,782,016\n",
    "l6 u768: 101,703,168\n",
    "l8 u512: 60,482,560\n",
    "l8 u768: 134,764,032\n",
    "```"
   ]
  },
  {
   "cell_type": "code",
   "execution_count": null,
   "metadata": {},
   "outputs": [],
   "source": []
  }
 ],
 "metadata": {
  "jupytext": {
   "text_representation": {
    "extension": ".py",
    "format_name": "light",
    "format_version": "1.3",
    "jupytext_version": "0.8.6"
   }
  },
  "kernelspec": {
   "display_name": "Python 3",
   "language": "python",
   "name": "python3"
  },
  "language_info": {
   "codemirror_mode": {
    "name": "ipython",
    "version": 3
   },
   "file_extension": ".py",
   "mimetype": "text/x-python",
   "name": "python",
   "nbconvert_exporter": "python",
   "pygments_lexer": "ipython3",
   "version": "3.6.5"
  }
 },
 "nbformat": 4,
 "nbformat_minor": 2
}

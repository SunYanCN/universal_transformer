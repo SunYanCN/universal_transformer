{
 "cells": [
  {
   "cell_type": "code",
   "execution_count": 1,
   "metadata": {},
   "outputs": [],
   "source": [
    "import tensorflow as tf\n",
    "import numpy as np\n",
    "from attrdict import AttrDict\n",
    "from multiprocessing import Process\n",
    "from tensorflow.keras.backend import set_session"
   ]
  },
  {
   "cell_type": "code",
   "execution_count": 2,
   "metadata": {},
   "outputs": [],
   "source": [
    "from model.ut import UniversalTransformer\n",
    "from datasource.sample_ds import SampleDataSource"
   ]
  },
  {
   "cell_type": "code",
   "execution_count": 3,
   "metadata": {},
   "outputs": [],
   "source": [
    "tf.enable_eager_execution()"
   ]
  },
  {
   "cell_type": "code",
   "execution_count": null,
   "metadata": {},
   "outputs": [],
   "source": [
    "config = tf.ConfigProto(\n",
    "    allow_soft_placement=True,\n",
    "    gpu_options=tf.GPUOptions(allow_growth=True)\n",
    ")\n",
    "session = tf.Session(config=config)\n",
    "set_session(session)"
   ]
  },
  {
   "cell_type": "code",
   "execution_count": 4,
   "metadata": {},
   "outputs": [],
   "source": [
    "hparams = AttrDict()\n",
    "hparams.num_units = 1024\n",
    "hparams.num_filter_units = hparams.num_units * 4\n",
    "hparams.num_heads = 8\n",
    "hparams.dropout_rate = 0.1\n",
    "hparams.max_length = 50\n",
    "hparams.batch_size = 32\n",
    "hparams.warmup_steps = 4000\n",
    "hparams.num_epochs = 10\n",
    "hparams.vocab_size = 3278\n",
    "hparams.act_max_step = 20\n",
    "hparams.act_epsilon = 0.01\n",
    "hparams.act_loss_weight = 0.01\n",
    "hparams.data_path = './data/'\n",
    "hparams.ckpt_path = './ckpt/aut/u{}_actl{}/model.ckpt'.format(hparams.num_units, hparams.act_loss_weight)\n",
    "hparams.log_dir = './logs/aut/u{}_actl{}'.format(hparams.num_units, hparams.act_loss_weight)\n",
    "hparams1 = hparams"
   ]
  },
  {
   "cell_type": "code",
   "execution_count": 7,
   "metadata": {},
   "outputs": [],
   "source": [
    "hparams2 = AttrDict()\n",
    "hparams2.num_units = 1024\n",
    "hparams2.num_filter_units = hparams2.num_units * 4\n",
    "hparams2.num_heads = 8\n",
    "hparams2.dropout_rate = 0.1\n",
    "hparams2.max_length = 50\n",
    "hparams2.batch_size = 32\n",
    "hparams2.warmup_steps = 4000\n",
    "hparams2.num_epochs = 20\n",
    "hparams2.vocab_size = 3278\n",
    "hparams2.act_max_step = 20\n",
    "hparams2.act_epsilon = 0.01\n",
    "hparams2.act_loss_weight = 0.001\n",
    "hparams2.data_path = './data/'\n",
    "hparams2.ckpt_path = './ckpt/aut/u{}_actl{}/model.ckpt'.format(hparams2.num_units, hparams2.act_loss_weight)\n",
    "hparams2.log_dir = './logs/aut/u{}_actl{}'.format(hparams2.num_units, hparams2.act_loss_weight)"
   ]
  },
  {
   "cell_type": "code",
   "execution_count": 5,
   "metadata": {},
   "outputs": [],
   "source": [
    "# eager\n",
    "def worker(hparams, gpu_id):\n",
    "    ds = SampleDataSource(hparams)\n",
    "    config = tf.ConfigProto(\n",
    "        allow_soft_placement=True,\n",
    "        gpu_options=tf.GPUOptions(allow_growth=True)\n",
    "    )\n",
    "    session = tf.Session(config=config)\n",
    "    set_session(session)\n",
    "    with tf.device('/gpu:{}'.format(gpu_id)):\n",
    "        model = UniversalTransformer(hparams, True)\n",
    "        optimizer = tf.train.AdamOptimizer(model.learning_rate, beta1=0.9, beta2=0.98, epsilon=1e-09)\n",
    "        model.load(optimizer)\n",
    "        writer = tf.contrib.summary.create_file_writer(hparams['log_dir'])\n",
    "        writer.set_as_default()\n",
    "        model.fit(ds, optimizer, writer)"
   ]
  },
  {
   "cell_type": "code",
   "execution_count": null,
   "metadata": {},
   "outputs": [],
   "source": [
    "#worker(hparams1, 1)"
   ]
  },
  {
   "cell_type": "code",
   "execution_count": 6,
   "metadata": {},
   "outputs": [
    {
     "name": "stdout",
     "output_type": "stream",
     "text": [
      "restored\n",
      "elapsed:  2749.348915576935\n",
      "0 epoch finished. now 359307 step, loss: 0.7144, acc: 0.5622\n",
      "elapsed:  2702.862313747406\n",
      "1 epoch finished. now 369018 step, loss: 0.7167, acc: 0.5638\n"
     ]
    }
   ],
   "source": [
    "process_0 = Process(target=worker,args=(hparams1, 1))\n",
    "process_0.start()"
   ]
  },
  {
   "cell_type": "code",
   "execution_count": 8,
   "metadata": {},
   "outputs": [
    {
     "name": "stdout",
     "output_type": "stream",
     "text": [
      "restored\n",
      "elapsed:  2703.8404738903046\n",
      "0 epoch finished. now 203931 step, loss: 0.7382, acc: 0.5357\n"
     ]
    }
   ],
   "source": [
    "process_1 = Process(target=worker,args=(hparams2, 2))\n",
    "process_1.start()"
   ]
  },
  {
   "cell_type": "code",
   "execution_count": null,
   "metadata": {},
   "outputs": [],
   "source": []
  }
 ],
 "metadata": {
  "jupytext": {
   "text_representation": {
    "extension": ".py",
    "format_name": "light",
    "format_version": "1.3",
    "jupytext_version": "0.8.6"
   }
  },
  "kernelspec": {
   "display_name": "Python 3",
   "language": "python",
   "name": "python3"
  },
  "language_info": {
   "codemirror_mode": {
    "name": "ipython",
    "version": 3
   },
   "file_extension": ".py",
   "mimetype": "text/x-python",
   "name": "python",
   "nbconvert_exporter": "python",
   "pygments_lexer": "ipython3",
   "version": "3.6.5"
  }
 },
 "nbformat": 4,
 "nbformat_minor": 2
}

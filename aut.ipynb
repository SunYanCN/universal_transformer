{
 "cells": [
  {
   "cell_type": "code",
   "execution_count": 1,
   "metadata": {},
   "outputs": [],
   "source": [
    "import tensorflow as tf\n",
    "import numpy as np\n",
    "from attrdict import AttrDict"
   ]
  },
  {
   "cell_type": "code",
   "execution_count": 2,
   "metadata": {},
   "outputs": [],
   "source": [
    "from model.ut import UniversalTransformer\n",
    "from datasource.sample_ds import SampleDataSource"
   ]
  },
  {
   "cell_type": "code",
   "execution_count": 3,
   "metadata": {},
   "outputs": [],
   "source": [
    "tf.enable_eager_execution()"
   ]
  },
  {
   "cell_type": "code",
   "execution_count": 4,
   "metadata": {},
   "outputs": [],
   "source": [
    "hparams = AttrDict()\n",
    "#hparams.num_layers = 4\n",
    "hparams.num_units = 768\n",
    "hparams.num_filter_units = hparams.num_units * 4\n",
    "hparams.num_heads = 8\n",
    "hparams.dropout_rate = 0.1\n",
    "hparams.max_length = 50\n",
    "hparams.batch_size = 32\n",
    "hparams.learning_rate = 0.001\n",
    "hparams.warmup_steps = 4000\n",
    "hparams.num_epochs = 2\n",
    "hparams.vocab_size = 3278\n",
    "hparams.data_path = './data/'\n",
    "hparams.ckpt_path = './ckpt/aut/u{}/model.ckpt'.format(hparams.num_units)\n",
    "hparams.log_dir = './logs/aut/u{}'.format(hparams.num_units)\n",
    "hparams.act_max_step = 20\n",
    "hparams.act_epsilon = 0.01\n",
    "hparams.act_loss_weight = 0.01\n",
    "hparams1 = hparams"
   ]
  },
  {
   "cell_type": "code",
   "execution_count": 5,
   "metadata": {},
   "outputs": [],
   "source": [
    "# eager\n",
    "def worker(hparams, gpu_id):\n",
    "    with tf.device('/gpu:{}'.format(gpu_id)):\n",
    "        ds = SampleDataSource(hparams)\n",
    "        model = UniversalTransformer(hparams, True)\n",
    "        optimizer = tf.train.AdamOptimizer(model.learning_rate, beta1=0.9, beta2=0.98, epsilon=1e-09)\n",
    "        model.load(optimizer)\n",
    "        writer = tf.contrib.summary.create_file_writer(hparams['log_dir'])\n",
    "        writer.set_as_default()\n",
    "        model.fit(ds, optimizer, writer)"
   ]
  },
  {
   "cell_type": "code",
   "execution_count": null,
   "metadata": {},
   "outputs": [
    {
     "name": "stdout",
     "output_type": "stream",
     "text": [
      "not restored because no checkpoint found\n"
     ]
    }
   ],
   "source": [
    "worker(hparams1, 0)"
   ]
  },
  {
   "cell_type": "code",
   "execution_count": null,
   "metadata": {},
   "outputs": [],
   "source": []
  }
 ],
 "metadata": {
  "jupytext": {
   "main_language": "python",
   "text_representation": {
    "extension": ".py",
    "format_name": "light",
    "format_version": "1.3",
    "jupytext_version": "0.8.6"
   }
  },
  "kernelspec": {
   "display_name": "Python 3",
   "language": "python",
   "name": "python3"
  },
  "language_info": {
   "codemirror_mode": {
    "name": "ipython",
    "version": 3
   },
   "file_extension": ".py",
   "mimetype": "text/x-python",
   "name": "python",
   "nbconvert_exporter": "python",
   "pygments_lexer": "ipython3",
   "version": "3.6.5"
  }
 },
 "nbformat": 4,
 "nbformat_minor": 2
}
